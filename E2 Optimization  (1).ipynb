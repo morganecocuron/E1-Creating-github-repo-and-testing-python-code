{
 "cells": [
  {
   "cell_type": "markdown",
   "id": "a113dae5",
   "metadata": {},
   "source": [
    "Line Search for f(x)"
   ]
  },
  {
   "cell_type": "code",
   "execution_count": 34,
   "id": "2d7699d8",
   "metadata": {},
   "outputs": [
    {
     "name": "stdout",
     "output_type": "stream",
     "text": [
      "Optimal solution for f(x) using direct implementation of line search: 13.667386522310014\n"
     ]
    }
   ],
   "source": [
    "import numpy as np\n",
    "\n",
    "def f(x):\n",
    "    return x**4 - 16*x**3 - 45*x**2 - 20*x + 203\n",
    "\n",
    "def line_search(func, x0, alpha, max_iter=1000, tol=1e-6):\n",
    "    x = x0\n",
    "    for _ in range(max_iter):\n",
    "        x_new = x - alpha * (func(x + alpha) - func(x))  \n",
    "        if abs(x_new - x) < tol:\n",
    "            break\n",
    "        x = x_new\n",
    "    return x\n",
    "\n",
    "range_f = (2.5, 14)\n",
    "\n",
    "optimal_solution_direct = line_search(f, range_f[0], 0.01)\n",
    "\n",
    "print(\"Optimal solution for f(x) using direct implementation of line search:\", optimal_solution_direct)"
   ]
  },
  {
   "cell_type": "markdown",
   "id": "e4be6218",
   "metadata": {},
   "source": [
    "Golden Search for f(x)"
   ]
  },
  {
   "cell_type": "code",
   "execution_count": 35,
   "id": "182adc6c",
   "metadata": {},
   "outputs": [
    {
     "name": "stdout",
     "output_type": "stream",
     "text": [
      "Optimal solution for f(x) using direct implementation of golden search: 13.672398386403598\n"
     ]
    }
   ],
   "source": [
    "import numpy as np\n",
    "\n",
    "def f(x):\n",
    "    return x**4 - 16*x**3 - 45*x**2 - 20*x + 203\n",
    "\n",
    "def golden_search(func, a, b, max_iter=1000, tol=1e-6):\n",
    "    phi = (1 + np.sqrt(5)) / 2  # Ratio d'or\n",
    "\n",
    "    for _ in range(max_iter):\n",
    "        d = (phi - 1) * (b - a)\n",
    "        x1 = a + d\n",
    "        x2 = b - d\n",
    "\n",
    "        if func(x1) < func(x2):\n",
    "            a = x2\n",
    "        else:\n",
    "            b = x1\n",
    "\n",
    "        if abs(b - a) < tol:\n",
    "            break\n",
    "\n",
    "    return (a + b) / 2\n",
    "\n",
    "range_f = (2.5, 14)\n",
    "\n",
    "optimal_solution_direct = golden_search(f, range_f[0], range_f[1])\n",
    "\n",
    "print(\"Optimal solution for f(x) using direct implementation of golden search:\", optimal_solution_direct)\n"
   ]
  },
  {
   "cell_type": "markdown",
   "id": "484168a7",
   "metadata": {},
   "source": [
    "SCIPY Line and Golden Search for f(x)"
   ]
  },
  {
   "cell_type": "code",
   "execution_count": 36,
   "id": "753e3493",
   "metadata": {},
   "outputs": [
    {
     "name": "stdout",
     "output_type": "stream",
     "text": [
      "Optimal solution for f(x) using SciPy: 13.6723986346544\n"
     ]
    }
   ],
   "source": [
    "from scipy.optimize import minimize_scalar\n",
    "\n",
    "def f(x):\n",
    "    return x**4 - 16*x**3 - 45*x**2 - 20*x + 203\n",
    "\n",
    "result = minimize_scalar(f, bounds=(2.5, 14), method='golden')\n",
    "\n",
    "print(\"Optimal solution for f(x) using SciPy:\", result.x)"
   ]
  },
  {
   "cell_type": "markdown",
   "id": "8dd1a912",
   "metadata": {},
   "source": [
    "Line Search for g(x)"
   ]
  },
  {
   "cell_type": "code",
   "execution_count": 37,
   "id": "d48305cf",
   "metadata": {},
   "outputs": [
    {
     "name": "stdout",
     "output_type": "stream",
     "text": [
      "Optimal solution for g(x) using direct implementation of line search: 7.482888383134223e+49\n"
     ]
    }
   ],
   "source": [
    "import numpy as np\n",
    "\n",
    "def g(x):\n",
    "    return -x**5 + 2*x**4 - 23*x**3 - 12*x**2 - 36*x\n",
    "\n",
    "\n",
    "def line_search(func, x0, alpha, max_iter=1000, tol=1e-6):\n",
    "    x = x0\n",
    "    for _ in range(max_iter):\n",
    "        x_new = x - alpha * (func(x + alpha) - func(x))  # Utilisation de la fonction elle-même\n",
    "        if abs(x_new - x) < tol:\n",
    "            break\n",
    "        x = x_new\n",
    "    return x\n",
    "\n",
    "\n",
    "range_g = (2, 3)\n",
    "\n",
    "\n",
    "optimal_solution_direct = line_search(g, range_g[0], 0.01)\n",
    "\n",
    "print(\"Optimal solution for g(x) using direct implementation of line search:\", optimal_solution_direct)\n"
   ]
  },
  {
   "cell_type": "markdown",
   "id": "e100f885",
   "metadata": {},
   "source": [
    "Golden Search for g(x)"
   ]
  },
  {
   "cell_type": "code",
   "execution_count": 38,
   "id": "0761c97a",
   "metadata": {},
   "outputs": [
    {
     "name": "stdout",
     "output_type": "stream",
     "text": [
      "Optimal solution for g(x) using direct implementation of golden search: 2.999999565161051\n"
     ]
    }
   ],
   "source": [
    "def golden_search(func, a, b, max_iter=1000, tol=1e-6):\n",
    "    phi = (1 + np.sqrt(5)) / 2  \n",
    "\n",
    "    for _ in range(max_iter):\n",
    "        d = (phi - 1) * (b - a)\n",
    "        x1 = a + d\n",
    "        x2 = b - d\n",
    "\n",
    "        if func(x1) < func(x2):\n",
    "            a = x2\n",
    "        else:\n",
    "            b = x1\n",
    "\n",
    "        if abs(b - a) < tol:\n",
    "            break\n",
    "\n",
    "    return (a + b) / 2\n",
    "\n",
    "\n",
    "range_g = (2, 3)\n",
    "\n",
    "\n",
    "optimal_solution_direct = golden_search(g, range_g[0], range_g[1])\n",
    "\n",
    "print(\"Optimal solution for g(x) using direct implementation of golden search:\", optimal_solution_direct)\n"
   ]
  },
  {
   "cell_type": "markdown",
   "id": "38af60d2",
   "metadata": {},
   "source": [
    "SCIPY Line and Golden Search"
   ]
  },
  {
   "cell_type": "code",
   "execution_count": 39,
   "id": "6b192266",
   "metadata": {},
   "outputs": [
    {
     "name": "stdout",
     "output_type": "stream",
     "text": [
      "Optimal solution for g(x) using SciPy: 2.999994039139014\n"
     ]
    }
   ],
   "source": [
    "from scipy.optimize import minimize_scalar\n",
    "\n",
    "result = minimize_scalar(g, bounds=(2, 3), method='bounded')\n",
    "\n",
    "print(\"Optimal solution for g(x) using SciPy:\", result.x)\n"
   ]
  }
 ],
 "metadata": {
  "kernelspec": {
   "display_name": "Python 3 (ipykernel)",
   "language": "python",
   "name": "python3"
  },
  "language_info": {
   "codemirror_mode": {
    "name": "ipython",
    "version": 3
   },
   "file_extension": ".py",
   "mimetype": "text/x-python",
   "name": "python",
   "nbconvert_exporter": "python",
   "pygments_lexer": "ipython3",
   "version": "3.9.13"
  }
 },
 "nbformat": 4,
 "nbformat_minor": 5
}
