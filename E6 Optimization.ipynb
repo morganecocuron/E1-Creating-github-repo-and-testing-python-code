{
 "cells": [
  {
   "cell_type": "markdown",
   "id": "4870bd2d",
   "metadata": {},
   "source": [
    "FORMAT OF THE METHOD "
   ]
  },
  {
   "cell_type": "code",
   "execution_count": 1,
   "id": "6e9b59d1",
   "metadata": {},
   "outputs": [],
   "source": [
    "from numpy import array, argmin, inf\n",
    "from fractions import Fraction\n",
    "\n",
    "class Tableau:\n",
    "    def __init__(self, obj):\n",
    "        self.obj = [1] + obj\n",
    "        self.rows = []\n",
    "        self.cons = []\n",
    "        self.no_variables = len(obj)\n",
    "        self.no_constraints = 0\n",
    "        self.is_fraction = False\n",
    "    \n",
    "    def add_constraint(self, expression, value):\n",
    "        self.rows.append([0] + expression)\n",
    "        self.cons.append(value)\n",
    "        self.no_constraints += 1\n",
    "    \n",
    "    def _pivot_column(self):\n",
    "        lowest_value = min(self.obj[1:-1])\n",
    "        if lowest_value >= 0:\n",
    "            return -1\n",
    "        return argmin(self.obj[1:-1]) + 1\n",
    " \n",
    "    def _pivot_row(self, col):\n",
    "        rhs = [row[-1] for row in self.rows]\n",
    "        lhs = [row[col] for row in self.rows]\n",
    "        ratios = []\n",
    "        for i in range(len(rhs)):\n",
    "            if lhs[i] <= 0:\n",
    "                ratios.append(inf)\n",
    "            else:\n",
    "                ratios.append(rhs[i] / lhs[i])\n",
    "        return argmin(ratios)\n",
    " \n",
    "    def _pivot(self, row, col):\n",
    "        pivot_value = self.rows[row][col]\n",
    "        self.rows[row] /= pivot_value\n",
    "        for r in range(len(self.rows)):\n",
    "            if r == row:\n",
    "                continue\n",
    "            self.rows[r] -= self.rows[r][col] * self.rows[row]\n",
    "        self.obj -= self.obj[col] * self.rows[row]\n",
    " \n",
    "    def _check(self):\n",
    "        return min(self.obj[1:-1]) >= 0\n",
    "         \n",
    "    def solve(self):\n",
    "        for i in range(len(self.rows)):\n",
    "            self.obj += [0]\n",
    "            ident = [0 for r in range(len(self.rows))]\n",
    "            ident[i] = 1\n",
    "            self.rows[i] += ident + [self.cons[i]]\n",
    "            self.rows[i] = array(self.rows[i], dtype=float)\n",
    "        self.obj = array(self.obj + [0], dtype=float)\n",
    " \n",
    "        while not self._check():\n",
    "            column_to_pivot = self._pivot_column()\n",
    "            if column_to_pivot == -1:\n",
    "                break\n",
    "            row_to_pivot = self._pivot_row(column_to_pivot)\n",
    "            self._pivot(row_to_pivot, column_to_pivot)\n",
    "    \n",
    "    def display(self):   \n",
    "        fmt = '{:<8}'.format(\"Basic\") \\\n",
    "              + \"\".join(['{:>8}'.format(\"x\"+str(i+1)) for i in range(self.no_variables)])   \\\n",
    "              + \"\".join(['{:>8}'.format(\"s\"+str(i+1)) for i in range(self.no_constraints)]) \\\n",
    "              + '{:>8}'.format(\"Sol.\")\n",
    "\n",
    "        fmt += \"\\n\" \n",
    "        fmt += '{:<8}'.format(\"z\") + \"\".join([\"{:>8.2f}\".format(item) for item in self.obj[1:]])\n",
    "\n",
    "        for i, row in enumerate(self.rows):\n",
    "            fmt += \"\\n\" \n",
    "            fmt += '{:<8}'.format(self.cons[i]) \\\n",
    "                   + \"\".join([\"{:>8.2f}\".format(item) for item in row[1:]])\n",
    "        print(fmt)\n",
    "        \n",
    "        print(\"\\nDual LP Problem:\")\n",
    "        for i, row in enumerate(self.rows):\n",
    "            print(f\"y{i+1} +\", end=\" \")\n",
    "            for j, item in enumerate(row[1:-1]):\n",
    "                if item != 0:\n",
    "                    print(f\"{abs(item)}*x{j+1}\", end=\" \")\n",
    "            print(\">= 1\")\n",
    "\n",
    "if __name__ == '__main__':\n",
    "    t = Tableau([-1,-4,-2])\n",
    "    t.add_constraint([5, 2, 2], 145)\n",
    "    t.add_constraint([4, 8, -8], 260)\n",
    "    t.add_constraint([1, 1, 4], 190)\n",
    "    t.is_fraction = True\n",
    "    t.solve()\n"
   ]
  },
  {
   "cell_type": "markdown",
   "id": "67c21012",
   "metadata": {},
   "source": [
    "Question 1 : writing the DUAL LP problem"
   ]
  },
  {
   "cell_type": "code",
   "execution_count": 2,
   "id": "6f6f5468",
   "metadata": {},
   "outputs": [
    {
     "name": "stderr",
     "output_type": "stream",
     "text": [
      "C:\\Users\\jean-\\anaconda\\lib\\site-packages\\scipy\\__init__.py:155: UserWarning: A NumPy version >=1.18.5 and <1.25.0 is required for this version of SciPy (detected version 1.26.4\n",
      "  warnings.warn(f\"A NumPy version >={np_minversion} and <{np_maxversion}\"\n"
     ]
    },
    {
     "name": "stdout",
     "output_type": "stream",
     "text": [
      "Dual LP problem:\n",
      "Minimize: [145, 260, 190]\n",
      "Subject to:\n",
      "[5, 4, 1] >=  1\n",
      "[2, 8, 1] >=  4\n",
      "[2, -8, 4] >=  2\n"
     ]
    }
   ],
   "source": [
    "from scipy.optimize import linprog\n",
    "\n",
    "# Objective coefficients for the primal problem\n",
    "c_primal = [1, 4, 2]  \n",
    "\n",
    "# Constraint coefficients for the primal problem\n",
    "A_primal = [\n",
    "    [5, 2, 2],  # Coefficients of x1, x2, x3 in the first constraint\n",
    "    [4, 8, -8],  # Coefficients of x1, x2, x3 in the second constraint\n",
    "    [1, 1, 4]   # Coefficients of x1, x2, x3 in the third constraint\n",
    "]\n",
    "\n",
    "# Right-hand side values of the constraints for the primal problem\n",
    "b_primal = [145, 260, 190]  \n",
    "\n",
    "# Objective coefficients for the dual LP problem\n",
    "c_dual = b_primal  \n",
    "\n",
    "# Constraint coefficients for the dual LP problem\n",
    "A_dual = [[A_primal[i][j] for i in range(len(A_primal))] for j in range(len(A_primal[0]))]\n",
    "\n",
    "# Right-hand side values of the constraints for the dual LP problem\n",
    "b_dual = c_primal  \n",
    "\n",
    "print(\"Dual LP problem:\")\n",
    "print(\"Minimize:\", c_dual)\n",
    "print(\"Subject to:\")\n",
    "for i in range(len(A_dual)):\n",
    "    print(A_dual[i], \">= \", b_dual[i])"
   ]
  },
  {
   "cell_type": "markdown",
   "id": "cc39af84",
   "metadata": {},
   "source": [
    "Question 2 : Verification that (0,52.5,20) is a feasible solution for the primal"
   ]
  },
  {
   "cell_type": "code",
   "execution_count": 7,
   "id": "74c4e896",
   "metadata": {},
   "outputs": [
    {
     "name": "stdout",
     "output_type": "stream",
     "text": [
      "Verification of feasibility of Q for the primal problem:\n",
      "Constraint 1: 145.0 <= 145\n",
      "   This constraint is satisfied as the left-hand side is less than or equal to the right-hand side.\n",
      "Constraint 2: 260.0 <= 260\n",
      "   This constraint is satisfied as the left-hand side is less than or equal to the right-hand side.\n",
      "Constraint 3: 132.5 <= 190\n",
      "   This constraint is satisfied as the left-hand side is less than or equal to the right-hand side.\n",
      "\n",
      "Q = [0, 52.5, 20]\n"
     ]
    }
   ],
   "source": [
    "# Coefficients of the constraints for the primal problem\n",
    "A_primal = [\n",
    "    [5, 2, 2],    # Coefficients of x1, x2, x3 in the first constraint\n",
    "    [4, 8, -8],   # Coefficients of x1, x2, x3 in the second constraint\n",
    "    [1, 1, 4]     # Coefficients of x1, x2, x3 in the third constraint\n",
    "]\n",
    "\n",
    "# Right-hand side values of the constraints for the primal problem\n",
    "b_primal = [145, 260, 190]\n",
    "\n",
    "# Values of Q\n",
    "Q = [0, 52.5, 20]\n",
    "\n",
    "# Verification of feasibility of Q for the primal problem\n",
    "print(\"Verification of feasibility of Q for the primal problem:\")\n",
    "\n",
    "for i in range(len(b_primal)):\n",
    "    left_side = sum([A_primal[i][j] * Q[j] for j in range(len(Q))])  # Calculation of the left-hand side of the constraint\n",
    "    print(f\"Constraint {i+1}: {left_side} <= {b_primal[i]}\")\n",
    "    if left_side <= b_primal[i]:\n",
    "        print(\"   This constraint is satisfied as the left-hand side is less than or equal to the right-hand side.\")\n",
    "    else:\n",
    "        print(\"   This constraint is not satisfied as the left-hand side is greater than the right-hand side.\")\n",
    "\n",
    "# Displaying Q\n",
    "print(\"\\nQ =\", Q)\n"
   ]
  },
  {
   "cell_type": "markdown",
   "id": "7745b113",
   "metadata": {},
   "source": [
    "Question 3 : Use of CS to determine the candidate solution to the dual "
   ]
  },
  {
   "cell_type": "code",
   "execution_count": 5,
   "id": "9bf7fe82",
   "metadata": {},
   "outputs": [
    {
     "name": "stdout",
     "output_type": "stream",
     "text": [
      "Solution:\n",
      "Objective value = 249.99999999999994\n",
      "x0 = 0.0\n",
      "x1 = 52.49999999999999\n",
      "x2 = 19.999999999999993\n"
     ]
    }
   ],
   "source": [
    "from ortools.linear_solver import pywraplp\n",
    "\n",
    "def solve_lp(c, A, b):\n",
    "    # Creating the solver\n",
    "    solver = pywraplp.Solver.CreateSolver('GLOP')\n",
    "    \n",
    "    # Number of variables\n",
    "    n = len(c)\n",
    "    \n",
    "    # Creating variables x\n",
    "    x = [solver.NumVar(0, solver.infinity(), 'x{}'.format(i)) for i in range(n)]\n",
    "\n",
    "    # Adding constraints\n",
    "    for i in range(len(A)):\n",
    "        constraint_expr = solver.RowConstraint(-solver.infinity(), b[i], '')\n",
    "        for j in range(len(A[i])):\n",
    "            constraint_expr.SetCoefficient(x[j], A[i][j])\n",
    "\n",
    "    # Defining the objective\n",
    "    objective = solver.Objective()\n",
    "    for j in range(n):\n",
    "        objective.SetCoefficient(x[j], c[j])\n",
    "    objective.SetMaximization()\n",
    "\n",
    "    # Solving the problem\n",
    "    status = solver.Solve()\n",
    "\n",
    "    # Displaying the solution\n",
    "    if status == pywraplp.Solver.OPTIMAL:\n",
    "        print('Solution:')\n",
    "        print('Objective value =', solver.Objective().Value())\n",
    "        for i in range(n):\n",
    "            print('x{} = {}'.format(i, x[i].solution_value()))\n",
    "    else:\n",
    "        print('The problem does not have an optimal solution.')\n",
    "\n",
    "# Example\n",
    "c = [1, 4, 2]\n",
    "A = [[5, 2, 2], [4, 8, -8], [1, 1, 4]]\n",
    "b = [145, 260, 190]\n",
    "\n",
    "solve_lp(c, A, b)\n",
    "\n"
   ]
  },
  {
   "cell_type": "markdown",
   "id": "22535c32",
   "metadata": {},
   "source": [
    "Question 4 : We can observe that $Q$ is very close to the the feasible solution (0,52.5,20) which means that the $Q$ is the solution for the primal problem. "
   ]
  }
 ],
 "metadata": {
  "kernelspec": {
   "display_name": "Python 3 (ipykernel)",
   "language": "python",
   "name": "python3"
  },
  "language_info": {
   "codemirror_mode": {
    "name": "ipython",
    "version": 3
   },
   "file_extension": ".py",
   "mimetype": "text/x-python",
   "name": "python",
   "nbconvert_exporter": "python",
   "pygments_lexer": "ipython3",
   "version": "3.9.13"
  }
 },
 "nbformat": 4,
 "nbformat_minor": 5
}
