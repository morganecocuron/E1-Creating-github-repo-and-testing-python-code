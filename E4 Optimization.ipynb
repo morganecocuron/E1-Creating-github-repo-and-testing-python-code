{
 "cells": [
  {
   "cell_type": "code",
   "execution_count": 5,
   "id": "721cbdaf",
   "metadata": {},
   "outputs": [
    {
     "name": "stdout",
     "output_type": "stream",
     "text": [
      "Requirement already satisfied: ortools in c:\\users\\jean-\\anaconda\\lib\\site-packages (9.9.3963)\n",
      "Requirement already satisfied: numpy>=1.13.3 in c:\\users\\jean-\\anaconda\\lib\\site-packages (from ortools) (1.26.4)\n",
      "Requirement already satisfied: protobuf>=4.25.3 in c:\\users\\jean-\\anaconda\\lib\\site-packages (from ortools) (5.26.0)\n",
      "Requirement already satisfied: pandas>=2.0.0 in c:\\users\\jean-\\anaconda\\lib\\site-packages (from ortools) (2.2.1)\n",
      "Requirement already satisfied: immutabledict>=3.0.0 in c:\\users\\jean-\\anaconda\\lib\\site-packages (from ortools) (4.2.0)\n",
      "Requirement already satisfied: absl-py>=2.0.0 in c:\\users\\jean-\\anaconda\\lib\\site-packages (from ortools) (2.1.0)\n",
      "Requirement already satisfied: python-dateutil>=2.8.2 in c:\\users\\jean-\\anaconda\\lib\\site-packages (from pandas>=2.0.0->ortools) (2.8.2)\n",
      "Requirement already satisfied: tzdata>=2022.7 in c:\\users\\jean-\\anaconda\\lib\\site-packages (from pandas>=2.0.0->ortools) (2024.1)\n",
      "Requirement already satisfied: pytz>=2020.1 in c:\\users\\jean-\\anaconda\\lib\\site-packages (from pandas>=2.0.0->ortools) (2022.1)\n",
      "Requirement already satisfied: six>=1.5 in c:\\users\\jean-\\anaconda\\lib\\site-packages (from python-dateutil>=2.8.2->pandas>=2.0.0->ortools) (1.16.0)\n",
      "Note: you may need to restart the kernel to use updated packages.\n"
     ]
    }
   ],
   "source": [
    "pip install ortools"
   ]
  },
  {
   "cell_type": "markdown",
   "id": "38505ab8",
   "metadata": {},
   "source": [
    "EXERCISE 1"
   ]
  },
  {
   "cell_type": "code",
   "execution_count": 3,
   "id": "734b7798",
   "metadata": {},
   "outputs": [
    {
     "name": "stdout",
     "output_type": "stream",
     "text": [
      "Maximum Profit: 9459.999999999998\n",
      "xA: 149.99999999999977\n",
      "xB: 220.00000000000014\n"
     ]
    }
   ],
   "source": [
    "from ortools.linear_solver import pywraplp\n",
    "\n",
    "def solve_exercise_1():\n",
    "    solver = pywraplp.Solver.CreateSolver('GLOP')\n",
    "    infinity = solver.infinity()\n",
    "\n",
    "    # Variables\n",
    "    xA = solver.NumVar(0.0, infinity, 'xA')\n",
    "    xB = solver.NumVar(0.0, infinity, 'xB')\n",
    "\n",
    "    # Objective function\n",
    "    solver.Maximize(22 * xA + 28 * xB)\n",
    "\n",
    "    # Constraints\n",
    "    solver.Add(8 * xA + 10 * xB <= 3400)\n",
    "    solver.Add(2 * xA + 3 * xB <= 960)\n",
    "\n",
    "    # Solve the problem\n",
    "    status = solver.Solve()\n",
    "\n",
    "    # Print solution\n",
    "    if status == pywraplp.Solver.OPTIMAL:\n",
    "        print('Maximum Profit:', solver.Objective().Value())\n",
    "        print('xA:', xA.solution_value())\n",
    "        print('xB:', xB.solution_value())\n",
    "    else:\n",
    "        print('The problem does not have an optimal solution.')\n",
    "\n",
    "solve_exercise_1()\n"
   ]
  },
  {
   "cell_type": "markdown",
   "id": "bb880812",
   "metadata": {},
   "source": [
    "EXERCISE 2"
   ]
  },
  {
   "cell_type": "code",
   "execution_count": 6,
   "id": "50775d56",
   "metadata": {},
   "outputs": [
    {
     "name": "stdout",
     "output_type": "stream",
     "text": [
      "Minimum Combined Costs: 30750.0\n",
      "x1: 500.0\n",
      "x2: 500.0\n",
      "x3: 500.0\n",
      "x4: 500.0\n"
     ]
    }
   ],
   "source": [
    "from ortools.linear_solver import pywraplp\n",
    "\n",
    "def solve_exercise_2():\n",
    "    solver = pywraplp.Solver.CreateSolver('GLOP')\n",
    "    infinity = solver.infinity()\n",
    "\n",
    "    # Variables\n",
    "    x = [solver.NumVar(500, 800, f'x{i}') for i in range(1, 5)]\n",
    "    A = [250]\n",
    "\n",
    "    # Objective function\n",
    "    solver.Minimize(sum(15 * xi for xi in x) + sum(3 * Ai for Ai in A))\n",
    "\n",
    "    # Constraints\n",
    "    for i in range(4):\n",
    "        A.append(A[-1] + x[i] - [900, 600, 800, 600][i])\n",
    "    for xi in x:\n",
    "        solver.Add(xi >= 0)\n",
    "\n",
    "    # Solve the problem\n",
    "    status = solver.Solve()\n",
    "\n",
    "    # Print solution\n",
    "    if status == pywraplp.Solver.OPTIMAL:\n",
    "        print('Minimum Combined Costs:', solver.Objective().Value())\n",
    "        for i in range(4):\n",
    "            print(f'x{i+1}: {x[i].solution_value()}')\n",
    "    else:\n",
    "        print('The problem does not have an optimal solution.')\n",
    "\n",
    "solve_exercise_2()\n"
   ]
  },
  {
   "cell_type": "markdown",
   "id": "eb6e82eb",
   "metadata": {},
   "source": [
    "EXERCISE 3"
   ]
  },
  {
   "cell_type": "code",
   "execution_count": 7,
   "id": "4514434f",
   "metadata": {},
   "outputs": [
    {
     "name": "stdout",
     "output_type": "stream",
     "text": [
      "Maximum z: 22.0\n",
      "x1: 6.0\n",
      "x2: 4.0\n"
     ]
    }
   ],
   "source": [
    "from ortools.linear_solver import pywraplp\n",
    "\n",
    "def solve_exercise_3():\n",
    "    solver = pywraplp.Solver.CreateSolver('GLOP')\n",
    "    infinity = solver.infinity()\n",
    "\n",
    "    # Variables\n",
    "    x1 = solver.NumVar(0.0, infinity, 'x1')\n",
    "    x2 = solver.NumVar(0.0, infinity, 'x2')\n",
    "\n",
    "    # Objective function\n",
    "    solver.Maximize(3 * x1 + x2)\n",
    "\n",
    "    # Constraints\n",
    "    solver.Add(x2 <= 5)\n",
    "    solver.Add(x1 + x2 <= 10)\n",
    "    solver.Add(-x1 + x2 >= -2)\n",
    "\n",
    "    # Solve the problem\n",
    "    status = solver.Solve()\n",
    "\n",
    "    # Print solution\n",
    "    if status == pywraplp.Solver.OPTIMAL:\n",
    "        print('Maximum z:', solver.Objective().Value())\n",
    "        print('x1:', x1.solution_value())\n",
    "        print('x2:', x2.solution_value())\n",
    "    else:\n",
    "        print('The problem does not have an optimal solution.')\n",
    "\n",
    "solve_exercise_3()\n"
   ]
  },
  {
   "cell_type": "markdown",
   "id": "0dfff92a",
   "metadata": {},
   "source": [
    "EXERCISE 4"
   ]
  },
  {
   "cell_type": "code",
   "execution_count": 8,
   "id": "8412c964",
   "metadata": {},
   "outputs": [
    {
     "name": "stdout",
     "output_type": "stream",
     "text": [
      "Minimum z: 4.0\n",
      "x1: 1.0\n",
      "x2: 3.0\n"
     ]
    }
   ],
   "source": [
    "from ortools.linear_solver import pywraplp\n",
    "\n",
    "def solve_exercise_4():\n",
    "    solver = pywraplp.Solver.CreateSolver('GLOP')\n",
    "    infinity = solver.infinity()\n",
    "\n",
    "    # Variables\n",
    "    x1 = solver.NumVar(0.0, infinity, 'x1')\n",
    "    x2 = solver.NumVar(0.0, infinity, 'x2')\n",
    "\n",
    "    # Objective function\n",
    "    solver.Minimize(x1 + x2)\n",
    "\n",
    "    # Constraints\n",
    "    solver.Add(3 * x1 + x2 >= 6)\n",
    "    solver.Add(x2 >= 3)\n",
    "    solver.Add(x1 <= 4)\n",
    "\n",
    "    # Solve the problem\n",
    "    status = solver.Solve()\n",
    "\n",
    "    # Print solution\n",
    "    if status == pywraplp.Solver.OPTIMAL:\n",
    "        print('Minimum z:', solver.Objective().Value())\n",
    "        print('x1:', x1.solution_value())\n",
    "        print('x2:', x2.solution_value())\n",
    "    else:\n",
    "        print('The problem does not have an optimal solution.')\n",
    "\n",
    "solve_exercise_4()\n"
   ]
  },
  {
   "cell_type": "markdown",
   "id": "e294e9ee",
   "metadata": {},
   "source": [
    "EXERCISE 5"
   ]
  },
  {
   "cell_type": "code",
   "execution_count": 9,
   "id": "925afca5",
   "metadata": {},
   "outputs": [
    {
     "name": "stdout",
     "output_type": "stream",
     "text": [
      "Maximum z: 8.0\n",
      "x1: 1.3333333333333333\n",
      "x2: 3.3333333333333335\n"
     ]
    }
   ],
   "source": [
    "from ortools.linear_solver import pywraplp\n",
    "\n",
    "def solve_exercise_5():\n",
    "    solver = pywraplp.Solver.CreateSolver('GLOP')\n",
    "    infinity = solver.infinity()\n",
    "\n",
    "    # Variables\n",
    "    x1 = solver.NumVar(0.0, infinity, 'x1')\n",
    "    x2 = solver.NumVar(0.0, infinity, 'x2')\n",
    "\n",
    "    # Objective function\n",
    "    solver.Maximize(x1 + 2 * x2)\n",
    "\n",
    "    # Constraints\n",
    "    solver.Add(-x1 + x2 <= 2)\n",
    "    solver.Add(x1 + 2 * x2 <= 8)\n",
    "    solver.Add(x1 <= 6)\n",
    "\n",
    "    # Solve the problem\n",
    "    status = solver.Solve()\n",
    "\n",
    "    # Print solution\n",
    "    if status == pywraplp.Solver.OPTIMAL:\n",
    "        print('Maximum z:', solver.Objective().Value())\n",
    "        print('x1:', x1.solution_value())\n",
    "        print('x2:', x2.solution_value())\n",
    "    else:\n",
    "        print('The problem does not have an optimal solution.')\n",
    "\n",
    "solve_exercise_5()\n"
   ]
  },
  {
   "cell_type": "markdown",
   "id": "33f4d13f",
   "metadata": {},
   "source": [
    "EXERCISE 6"
   ]
  },
  {
   "cell_type": "code",
   "execution_count": 10,
   "id": "45699220",
   "metadata": {},
   "outputs": [
    {
     "name": "stdout",
     "output_type": "stream",
     "text": [
      "The problem does not have an optimal solution.\n"
     ]
    }
   ],
   "source": [
    "from ortools.linear_solver import pywraplp\n",
    "\n",
    "def solve_exercise_6():\n",
    "    solver = pywraplp.Solver.CreateSolver('GLOP')\n",
    "    infinity = solver.infinity()\n",
    "\n",
    "    # Variables\n",
    "    x1 = solver.NumVar(0.0, infinity, 'x1')\n",
    "    x2 = solver.NumVar(0.0, infinity, 'x2')\n",
    "\n",
    "    # Objective function\n",
    "    solver.Maximize(3 * x1 + x2)\n",
    "\n",
    "    # Constraints\n",
    "    solver.Add(x1 + x2 >= 4)\n",
    "    solver.Add(-x1 + x2 <= 4)\n",
    "    solver.Add(-x1 + 2 * x2 >= -4)\n",
    "\n",
    "    # Solve the problem\n",
    "    status = solver.Solve()\n",
    "\n",
    "    # Print solution\n",
    "    if status == pywraplp.Solver.OPTIMAL:\n",
    "        print('Maximum z:', solver.Objective().Value())\n",
    "        print('x1:', x1.solution_value())\n",
    "        print('x2:', x2.solution_value())\n",
    "    else:\n",
    "        print('The problem does not have an optimal solution.')\n",
    "\n",
    "solve_exercise_6()\n"
   ]
  },
  {
   "cell_type": "markdown",
   "id": "033c13be",
   "metadata": {},
   "source": [
    "EXERCISE 7"
   ]
  },
  {
   "cell_type": "code",
   "execution_count": 11,
   "id": "5699b7fd",
   "metadata": {},
   "outputs": [
    {
     "name": "stdout",
     "output_type": "stream",
     "text": [
      "The problem does not have an optimal solution.\n"
     ]
    }
   ],
   "source": [
    "from ortools.linear_solver import pywraplp\n",
    "\n",
    "def solve_exercise_7():\n",
    "    solver = pywraplp.Solver.CreateSolver('GLOP')\n",
    "    infinity = solver.infinity()\n",
    "\n",
    "    # Variables\n",
    "    x1 = solver.NumVar(0.0, infinity, 'x1')\n",
    "    x2 = solver.NumVar(0.0, infinity, 'x2')\n",
    "\n",
    "    # Objective function\n",
    "    solver.Maximize(3 * x1 + x2)\n",
    "\n",
    "    # Constraints\n",
    "    solver.Add(-x1 + x2 >= 4)\n",
    "    solver.Add(-x1 + 2 * x2 <= -4)\n",
    "\n",
    "    # Solve the problem\n",
    "    status = solver.Solve()\n",
    "\n",
    "    # Print solution\n",
    "    if status == pywraplp.Solver.OPTIMAL:\n",
    "        print('Maximum z:', solver.Objective().Value())\n",
    "        print('x1:', x1.solution_value())\n",
    "        print('x2:', x2.solution_value())\n",
    "    else:\n",
    "        print('The problem does not have an optimal solution.')\n",
    "\n",
    "solve_exercise_7()\n"
   ]
  }
 ],
 "metadata": {
  "kernelspec": {
   "display_name": "Python 3 (ipykernel)",
   "language": "python",
   "name": "python3"
  },
  "language_info": {
   "codemirror_mode": {
    "name": "ipython",
    "version": 3
   },
   "file_extension": ".py",
   "mimetype": "text/x-python",
   "name": "python",
   "nbconvert_exporter": "python",
   "pygments_lexer": "ipython3",
   "version": "3.9.13"
  }
 },
 "nbformat": 4,
 "nbformat_minor": 5
}
