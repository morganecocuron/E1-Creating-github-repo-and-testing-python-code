{
 "cells": [
  {
   "cell_type": "code",
   "execution_count": 1,
   "id": "065db3c4",
   "metadata": {},
   "outputs": [
    {
     "name": "stdout",
     "output_type": "stream",
     "text": [
      "Output 1:\n",
      "[ 2 1 ] [ 1 2 ] \n",
      "Output 2:\n",
      "There is no such subset\n"
     ]
    }
   ],
   "source": [
    "# Print all subsets if there is at least one subset of set[]\n",
    "# with a sum equal to the given sum\n",
    "flag = False\n",
    " \n",
    "def print_subset_sum(i, n, _set, target_sum, subset):\n",
    "    global flag\n",
    "    # If targetSum is zero, then there exists a subset\n",
    "    if target_sum == 0:\n",
    "        # Prints valid subset\n",
    "        flag = True\n",
    "        print(\"[\", end=\" \")\n",
    "        for element in subset:\n",
    "            print(element, end=\" \")\n",
    "        print(\"]\", end=\" \")\n",
    "        return\n",
    " \n",
    "    if i == n:\n",
    "        # Return if we have reached the end of the array\n",
    "        return\n",
    " \n",
    "    # Not considering the current element\n",
    "    print_subset_sum(i + 1, n, _set, target_sum, subset)\n",
    " \n",
    "    # Consider the current element if it is less than or equal to targetSum\n",
    "    if _set[i] <= target_sum:\n",
    "        # Push the current element into the subset\n",
    "        subset.append(_set[i])\n",
    " \n",
    "        # Recursive call for considering the current element\n",
    "        print_subset_sum(i + 1, n, _set, target_sum - _set[i], subset)\n",
    " \n",
    "        # Remove the last element after recursive call to restore subset's original configuration\n",
    "        subset.pop()\n",
    " \n",
    "# Driver code\n",
    "if __name__ == \"__main__\":\n",
    "    # Test case 1\n",
    "    set_1 = [1, 2, 1]\n",
    "    sum_1 = 3\n",
    "    n_1 = len(set_1)\n",
    "    subset_1 = []\n",
    "    print(\"Output 1:\")\n",
    "    print_subset_sum(0, n_1, set_1, sum_1, subset_1)\n",
    "    print()\n",
    "    flag = False\n",
    " \n",
    "    # Test case 2\n",
    "    set_2 = [3, 34, 4, 12, 5, 2]\n",
    "    sum_2 = 30\n",
    "    n_2 = len(set_2)\n",
    "    subset_2 = []\n",
    "    print(\"Output 2:\")\n",
    "    print_subset_sum(0, n_2, set_2, sum_2, subset_2)\n",
    "    if not flag:\n",
    "        print(\"There is no such subset\")"
   ]
  },
  {
   "cell_type": "code",
   "execution_count": null,
   "id": "99c32899",
   "metadata": {},
   "outputs": [],
   "source": []
  }
 ],
 "metadata": {
  "kernelspec": {
   "display_name": "Python 3 (ipykernel)",
   "language": "python",
   "name": "python3"
  },
  "language_info": {
   "codemirror_mode": {
    "name": "ipython",
    "version": 3
   },
   "file_extension": ".py",
   "mimetype": "text/x-python",
   "name": "python",
   "nbconvert_exporter": "python",
   "pygments_lexer": "ipython3",
   "version": "3.9.13"
  }
 },
 "nbformat": 4,
 "nbformat_minor": 5
}
