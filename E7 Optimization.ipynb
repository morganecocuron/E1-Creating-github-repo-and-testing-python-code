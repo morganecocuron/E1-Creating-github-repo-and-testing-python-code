{
 "cells": [
  {
   "cell_type": "markdown",
   "id": "c20e14ba",
   "metadata": {},
   "source": [
    "E7 Exercise "
   ]
  },
  {
   "cell_type": "code",
   "execution_count": 8,
   "id": "c9de9d94",
   "metadata": {},
   "outputs": [],
   "source": [
    "import pandas as pd\n",
    "import numpy as np\n",
    "from scipy.optimize import linprog\n",
    "\n",
    "file_path = r\"ESILVtransportation_parameters.csv\"\n",
    "df = pd.read_csv(file_path)"
   ]
  },
  {
   "cell_type": "markdown",
   "id": "d3df6f8c",
   "metadata": {},
   "source": [
    "Northwest corner rule"
   ]
  },
  {
   "cell_type": "code",
   "execution_count": 9,
   "id": "8cb5bb09",
   "metadata": {},
   "outputs": [
    {
     "name": "stdout",
     "output_type": "stream",
     "text": [
      "Northwest Corner Rule Allocation:\n",
      " [[20.  0.  0.]\n",
      " [10. 20. 25.]\n",
      " [ 0.  0.  0.]]\n"
     ]
    }
   ],
   "source": [
    "def northwest_corner_rule(df):\n",
    "    try:\n",
    "        # Extract unique sources and destinations\n",
    "        sources = sorted(set(df[\"Source\"]))\n",
    "        destinations = sorted(set(df[\"Destination\"]))\n",
    "        \n",
    "        # Create a cost matrix\n",
    "        num_sources = len(sources)\n",
    "        num_destinations = len(destinations)\n",
    "        cost_matrix = np.zeros((num_sources, num_destinations))\n",
    "        \n",
    "        for index, row in df.iterrows():\n",
    "            source_index = sources.index(row[\"Source\"])\n",
    "            dest_index = destinations.index(row[\"Destination\"])\n",
    "            cost_matrix[source_index][dest_index] = row[\"Cost\"]\n",
    "        \n",
    "        # Initialize supply and demand arrays\n",
    "        supply = np.array(df.groupby(\"Source\")[\"Supply\"].sum())\n",
    "        demand = np.array(df.groupby(\"Destination\")[\"Demand\"].sum())\n",
    "        \n",
    "        # Initialize allocation matrix\n",
    "        allocations = np.zeros_like(cost_matrix)\n",
    "        \n",
    "        # Apply Northwest Corner Rule\n",
    "        source_index = 0\n",
    "        dest_index = 0\n",
    "        \n",
    "        while source_index < num_sources and dest_index < num_destinations:\n",
    "            quantity = min(supply[source_index], demand[dest_index])\n",
    "            allocations[source_index][dest_index] = quantity\n",
    "            supply[source_index] -= quantity\n",
    "            demand[dest_index] -= quantity\n",
    "            \n",
    "            if supply[source_index] == 0:\n",
    "                source_index += 1\n",
    "            if demand[dest_index] == 0:\n",
    "                dest_index += 1\n",
    "        \n",
    "        return allocations\n",
    "    \n",
    "    except Exception as e:\n",
    "        print(\"An error occurred:\", e)\n",
    "        return None\n",
    "    \n",
    "# Northwest Corner Rule method\n",
    "nw_allocation = northwest_corner_rule(df)\n",
    "print(\"Northwest Corner Rule Allocation:\\n\", nw_allocation)"
   ]
  },
  {
   "cell_type": "markdown",
   "id": "745ad5b6",
   "metadata": {},
   "source": [
    "Minimum cost method "
   ]
  },
  {
   "cell_type": "code",
   "execution_count": 10,
   "id": "5cda7d7e",
   "metadata": {},
   "outputs": [
    {
     "name": "stdout",
     "output_type": "stream",
     "text": [
      "Minimum Cost Method Allocation:\n",
      " [[ 0.  0. 20.]\n",
      " [ 0. 20.  5.]\n",
      " [30.  0.  0.]]\n"
     ]
    }
   ],
   "source": [
    "def minimum_cost_method(df):\n",
    "    try:\n",
    "        # Extract unique sources, destinations, supply, demand, and costs\n",
    "        sources = sorted(set(df[\"Source\"]))\n",
    "        destinations = sorted(set(df[\"Destination\"]))\n",
    "        supply = np.array(df.groupby(\"Source\")[\"Supply\"].sum())\n",
    "        demand = np.array(df.groupby(\"Destination\")[\"Demand\"].sum())\n",
    "        \n",
    "        # Create a cost matrix\n",
    "        num_sources = len(sources)\n",
    "        num_destinations = len(destinations)\n",
    "        costs = np.zeros((num_sources, num_destinations))\n",
    "        \n",
    "        for index, row in df.iterrows():\n",
    "            source_index = sources.index(row[\"Source\"])\n",
    "            dest_index = destinations.index(row[\"Destination\"])\n",
    "            costs[source_index][dest_index] = row[\"Cost\"]\n",
    "        \n",
    "        # Initialize allocation matrix\n",
    "        allocations = np.zeros_like(costs)\n",
    "        \n",
    "        # Iterate until all supply and demand are satisfied\n",
    "        while np.any(supply > 0) and np.any(demand > 0):\n",
    "            min_cost = np.inf\n",
    "            min_source, min_dest = -1, -1\n",
    "            \n",
    "            for i in range(num_sources):\n",
    "                for j in range(num_destinations):\n",
    "                    if supply[i] > 0 and demand[j] > 0 and costs[i][j] < min_cost:\n",
    "                        min_cost = costs[i][j]\n",
    "                        min_source, min_dest = i, j\n",
    "                        \n",
    "            quantity = min(supply[min_source], demand[min_dest])\n",
    "            allocations[min_source][min_dest] = quantity\n",
    "            supply[min_source] -= quantity\n",
    "            demand[min_dest] -= quantity\n",
    "        \n",
    "        return allocations\n",
    "    \n",
    "    except Exception as e:\n",
    "        print(\"An error occurred:\", e)\n",
    "        return None\n",
    "        \n",
    "min_cost_allocation = minimum_cost_method(df)\n",
    "print(\"Minimum Cost Method Allocation:\\n\", min_cost_allocation)"
   ]
  },
  {
   "cell_type": "markdown",
   "id": "efc053f4",
   "metadata": {},
   "source": [
    "Minimum row cost method"
   ]
  },
  {
   "cell_type": "code",
   "execution_count": 11,
   "id": "bc8daa26",
   "metadata": {},
   "outputs": [
    {
     "name": "stdout",
     "output_type": "stream",
     "text": [
      "Minimum Row Cost Method Allocation:\n",
      " [[20.  0.  0.]\n",
      " [ 0. 20.  0.]\n",
      " [10.  0.  0.]]\n"
     ]
    }
   ],
   "source": [
    "def minimum_row_cost_method(df):\n",
    "    try:\n",
    "        # Extract unique sources, destinations, supply, demand, and costs\n",
    "        sources = sorted(set(df[\"Source\"]))\n",
    "        destinations = sorted(set(df[\"Destination\"]))\n",
    "        supply = np.array(df.groupby(\"Source\")[\"Supply\"].sum())\n",
    "        demand = np.array(df.groupby(\"Destination\")[\"Demand\"].sum())\n",
    "        \n",
    "        # Create a cost matrix\n",
    "        num_sources = len(sources)\n",
    "        num_destinations = len(destinations)\n",
    "        costs = np.zeros((num_sources, num_destinations))\n",
    "        \n",
    "        for index, row in df.iterrows():\n",
    "            source_index = sources.index(row[\"Source\"])\n",
    "            dest_index = destinations.index(row[\"Destination\"])\n",
    "            costs[source_index][dest_index] = row[\"Cost\"]\n",
    "        \n",
    "        # Initialize allocation matrix\n",
    "        allocations = np.zeros_like(costs)\n",
    "        \n",
    "        # Iterate over rows\n",
    "        for i, row in enumerate(sources):\n",
    "            # Find the column index with the minimum cost\n",
    "            min_col_index = np.argmin(costs[i])\n",
    "            \n",
    "            # Allocate units based on minimum of supply and demand\n",
    "            quantity = min(supply[i], demand[min_col_index])\n",
    "            allocations[i][min_col_index] = quantity\n",
    "            supply[i] -= quantity\n",
    "            demand[min_col_index] -= quantity\n",
    "        \n",
    "        return allocations\n",
    "    \n",
    "    except Exception as e:\n",
    "        print(\"An error occurred:\", e)\n",
    "        return None\n",
    "\n",
    "    # Minimum Row Cost Method\n",
    "min_row_allocation = minimum_row_cost_method(df)\n",
    "print(\"Minimum Row Cost Method Allocation:\\n\", min_row_allocation)"
   ]
  },
  {
   "cell_type": "markdown",
   "id": "9402af48",
   "metadata": {},
   "source": [
    "Vogel's method "
   ]
  },
  {
   "cell_type": "code",
   "execution_count": 12,
   "id": "cd287bc5",
   "metadata": {},
   "outputs": [
    {
     "name": "stdout",
     "output_type": "stream",
     "text": [
      "Vogel's Method Allocation:\n",
      " [[ 0.  0. 20.]\n",
      " [ 0. 20.  0.]\n",
      " [30.  0.  0.]]\n"
     ]
    }
   ],
   "source": [
    "def vogels_method(df):\n",
    "    try:\n",
    "        # Extract unique sources, destinations, supply, demand, and costs\n",
    "        sources = sorted(set(df[\"Source\"]))\n",
    "        destinations = sorted(set(df[\"Destination\"]))\n",
    "        supply = np.array(df.groupby(\"Source\")[\"Supply\"].sum())\n",
    "        demand = np.array(df.groupby(\"Destination\")[\"Demand\"].sum())\n",
    "        \n",
    "        # Create a cost matrix\n",
    "        num_sources = len(sources)\n",
    "        num_destinations = len(destinations)\n",
    "        costs = np.zeros((num_sources, num_destinations))\n",
    "        \n",
    "        for index, row in df.iterrows():\n",
    "            source_index = sources.index(row[\"Source\"])\n",
    "            dest_index = destinations.index(row[\"Destination\"])\n",
    "            costs[source_index][dest_index] = row[\"Cost\"]\n",
    "        \n",
    "        # Initialize allocation matrix\n",
    "        allocations = np.zeros_like(costs)\n",
    "        \n",
    "        # Implement Vogel's Approximation Method (VAM)\n",
    "        for _ in range(num_sources + num_destinations - 1):\n",
    "            # Calculate the penalty for each row and column\n",
    "            row_penalties = np.array([np.inf] * num_sources)\n",
    "            col_penalties = np.array([np.inf] * num_destinations)\n",
    "            \n",
    "            for i in range(num_sources):\n",
    "                row = costs[i]\n",
    "                row_sorted = np.sort(row)\n",
    "                if row_sorted[0] < np.inf:\n",
    "                    row_penalties[i] = row_sorted[1] - row_sorted[0]\n",
    "            \n",
    "            for j in range(num_destinations):\n",
    "                col = costs[:, j]\n",
    "                col_sorted = np.sort(col)\n",
    "                if col_sorted[0] < np.inf:\n",
    "                    col_penalties[j] = col_sorted[1] - col_sorted[0]\n",
    "            \n",
    "            max_row_penalty = np.argmax(row_penalties)\n",
    "            max_col_penalty = np.argmax(col_penalties)\n",
    "            \n",
    "            if row_penalties[max_row_penalty] >= col_penalties[max_col_penalty]:\n",
    "                # Allocate to the cell with the minimum cost in the column\n",
    "                min_cost_index = np.argmin(costs[:, max_col_penalty])\n",
    "                quantity = min(supply[min_cost_index], demand[max_col_penalty])\n",
    "                allocations[min_cost_index][max_col_penalty] = quantity\n",
    "                supply[min_cost_index] -= quantity\n",
    "                demand[max_col_penalty] -= quantity\n",
    "                costs[min_cost_index][max_col_penalty] = np.inf\n",
    "            else:\n",
    "                # Allocate to the cell with the minimum cost in the row\n",
    "                min_cost_index = np.argmin(costs[max_row_penalty])\n",
    "                quantity = min(supply[max_row_penalty], demand[min_cost_index])\n",
    "                allocations[max_row_penalty][min_cost_index] = quantity\n",
    "                supply[max_row_penalty] -= quantity\n",
    "                demand[min_cost_index] -= quantity\n",
    "                costs[max_row_penalty][min_cost_index] = np.inf\n",
    "        \n",
    "        return allocations\n",
    "    \n",
    "    except Exception as e:\n",
    "        print(\"An error occurred:\", e)\n",
    "        return None\n",
    "\n",
    "vogel_allocation = vogels_method(df)\n",
    "print(\"Vogel's Method Allocation:\\n\", vogel_allocation)"
   ]
  },
  {
   "cell_type": "code",
   "execution_count": null,
   "id": "3551b7a3",
   "metadata": {},
   "outputs": [],
   "source": []
  }
 ],
 "metadata": {
  "kernelspec": {
   "display_name": "Python 3 (ipykernel)",
   "language": "python",
   "name": "python3"
  },
  "language_info": {
   "codemirror_mode": {
    "name": "ipython",
    "version": 3
   },
   "file_extension": ".py",
   "mimetype": "text/x-python",
   "name": "python",
   "nbconvert_exporter": "python",
   "pygments_lexer": "ipython3",
   "version": "3.9.13"
  }
 },
 "nbformat": 4,
 "nbformat_minor": 5
}
